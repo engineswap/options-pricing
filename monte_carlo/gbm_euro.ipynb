{
 "cells": [
  {
   "cell_type": "code",
   "execution_count": null,
   "metadata": {},
   "outputs": [],
   "source": [
    "import matplotlib.pyplot as plt\n",
    "import numpy as np\n",
    "from scipy.stats import norm\n",
    "\n",
    "mu = 0.05 # rf\n",
    "n = 1000 # timesteps\n",
    "T = 1 # years until expiration\n",
    "S0 = 100 # initial stock price\n",
    "K = 100 # strike price\n",
    "sigma = 0.2 # Vol \n",
    "M = 1000 # # of simulations"
   ]
  },
  {
   "cell_type": "code",
   "execution_count": null,
   "metadata": {},
   "outputs": [],
   "source": [
    "def BSM_CALL(S, K, T, r, sigma):\n",
    " d1 = (np.log(S/K) + (r + sigma**2/2)*T) / (sigma*np.sqrt(T))\n",
    " d2 = d1 - sigma * np.sqrt(T)\n",
    " return S * norm.cdf(d1) - K * np.exp(-r*T)* norm.cdf(d2)"
   ]
  },
  {
   "cell_type": "code",
   "execution_count": null,
   "metadata": {},
   "outputs": [],
   "source": [
    "times = np.linspace(0, T, num = n+1) # generate times\n",
    "dt = times[1] - times[0] # discrete timestep \n",
    "\n",
    "B = np.random.normal(0, np.sqrt(dt), size=(M,n)).T # Random noise in GBM\n",
    "St = np.exp( (mu - sigma ** 2 / 2) * dt + sigma * B ) # Simulated price returns"
   ]
  },
  {
   "cell_type": "code",
   "execution_count": null,
   "metadata": {},
   "outputs": [],
   "source": [
    "St = np.vstack([np.ones(M), St]) # Add a row of ones above"
   ]
  },
  {
   "cell_type": "code",
   "execution_count": null,
   "metadata": {},
   "outputs": [],
   "source": [
    "St = S0 * St.cumprod(axis=0)\n",
    "ExpPayoffT = (1 / M) * np.sum(np.maximum(St[n] - K, 0)) # Get option value at the excersize date\n",
    "DiscExpPayoffT = ExpPayoffT * np.exp(-mu * T) # discount option by rf"
   ]
  },
  {
   "cell_type": "code",
   "execution_count": null,
   "metadata": {},
   "outputs": [],
   "source": [
    "tt = np.full(shape=(M,n+1), fill_value=times).T"
   ]
  },
  {
   "cell_type": "code",
   "execution_count": null,
   "metadata": {},
   "outputs": [],
   "source": [
    "plt.figure(figsize = (10,5))\n",
    "plt.plot(tt, St)\n",
    "plt.xlabel(\"Time \\((t)\\)\")\n",
    "plt.ylabel(\"Stock Price \\((S_t)\\)\")\n",
    "plt.title(\"Stock price simulation\\n \\(S_0 = {0}, \\mu = {1}, \\sigma = {2}\\)\".format(S0, mu, sigma))\n",
    "plt.show()\n",
    "print(\"Expected payoff in T={0} years: {1}\".format(T,ExpPayoffT))\n",
    "print(\"Discounted Expected payoff: {0}\".format(DiscExpPayoffT))\n",
    "print(\"BSM price: {0}\".format(BSM_CALL(S0, K, T, mu, sigma)))"
   ]
  }
 ],
 "metadata": {
  "kernelspec": {
   "display_name": "base",
   "language": "python",
   "name": "python3"
  },
  "language_info": {
   "codemirror_mode": {
    "name": "ipython",
    "version": 3
   },
   "file_extension": ".py",
   "mimetype": "text/x-python",
   "name": "python",
   "nbconvert_exporter": "python",
   "pygments_lexer": "ipython3",
   "version": "3.10.13"
  }
 },
 "nbformat": 4,
 "nbformat_minor": 2
}
