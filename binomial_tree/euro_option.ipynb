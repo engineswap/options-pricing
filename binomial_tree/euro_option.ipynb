{
 "cells": [
  {
   "cell_type": "markdown",
   "metadata": {},
   "source": [
    "Pricing a european call option with a binomial tree"
   ]
  },
  {
   "cell_type": "code",
   "execution_count": null,
   "metadata": {},
   "outputs": [],
   "source": [
    "import math\n",
    "import numpy as np"
   ]
  },
  {
   "cell_type": "code",
   "execution_count": null,
   "metadata": {},
   "outputs": [],
   "source": [
    "# Initialize parameters\n",
    "K = 100 # Strike price\n",
    "T = 1 # Time to maturity (years)\n",
    "S = 100 # Current price of the underlying stock\n",
    "r = 0.06 # Risk-free rate\n",
    "N = 1000 # Number of time steps\n",
    "sigma = 0.16509\n",
    "type = \"call\""
   ]
  },
  {
   "cell_type": "code",
   "execution_count": null,
   "metadata": {},
   "outputs": [],
   "source": [
    "# Precompute constants\n",
    "dt = T/N # Time step\n",
    "u = math.e**(sigma * math.sqrt(dt))\n",
    "d = 1/u # Factor change of downstate\n",
    "\n",
    "disc = math.e**(-r*dt) # Discount factor\n",
    "p = (math.e**(r*dt)-d)/(u-d) # Probability of upstate"
   ]
  },
  {
   "cell_type": "code",
   "execution_count": null,
   "metadata": {},
   "outputs": [],
   "source": [
    "# Init asset prices at last time step\n",
    "St = [0]*(N+1)\n",
    "St[0] = S* d**N\n",
    "for j in range(1,N+1):\n",
    "\tSt[j] = St[j-1] * u/d"
   ]
  },
  {
   "cell_type": "code",
   "execution_count": null,
   "metadata": {},
   "outputs": [],
   "source": [
    "# Get options value at last time step\n",
    "C = [0]*(N+1)\n",
    "for j in range(N+1):\n",
    "\tif type==\"call\":\n",
    "\t\tC[j] = max(0, St[j]-K)\n",
    "\telif type==\"put\":\n",
    "\t\tC[j] = max(0, K-St[j])"
   ]
  },
  {
   "cell_type": "code",
   "execution_count": null,
   "metadata": {},
   "outputs": [],
   "source": [
    "for j in range(N): # Iterate the time steps\n",
    "\t# print(C)\n",
    "\t# print(f\"Time step: {j+1}/{N} (from the end)\")\n",
    "\t\n",
    "\tfor i in range(len(C)-j-1): # Find EV of each option in this timestep\n",
    "\t\t# print(f\"timestep: {j} (from back), combining {C[i]} and {C[i+1]}\")\n",
    "\t\tC[i] = (C[i] * (1-p) + C[i+1] * p) * disc # EV at current timestep"
   ]
  },
  {
   "cell_type": "code",
   "execution_count": null,
   "metadata": {},
   "outputs": [],
   "source": [
    "print(f\"\\n\\nPresent option value: {C[0]}\")"
   ]
  }
 ],
 "metadata": {
  "kernelspec": {
   "display_name": "base",
   "language": "python",
   "name": "python3"
  },
  "language_info": {
   "codemirror_mode": {
    "name": "ipython",
    "version": 3
   },
   "file_extension": ".py",
   "mimetype": "text/x-python",
   "name": "python",
   "nbconvert_exporter": "python",
   "pygments_lexer": "ipython3",
   "version": "3.10.13"
  }
 },
 "nbformat": 4,
 "nbformat_minor": 2
}
